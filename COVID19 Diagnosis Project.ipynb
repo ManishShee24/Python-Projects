{
 "cells": [
  {
   "cell_type": "markdown",
   "metadata": {},
   "source": [
    "## COVID19 DIAGNOSIS PROJECT USING NUMPY,PANDAS,MATPLOTLIB & LINEAR\n",
    "## REGRESSION"
   ]
  },
  {
   "cell_type": "markdown",
   "metadata": {},
   "source": [
    "### Some Important Libraries"
   ]
  },
  {
   "cell_type": "code",
   "execution_count": null,
   "metadata": {},
   "outputs": [],
   "source": [
    "import numpy as np\n",
    "import pandas as pd\n",
    "import matplotlib.pyplot as plt\n",
    "import datetime as dt\n",
    "import calendar as cd"
   ]
  },
  {
   "cell_type": "code",
   "execution_count": null,
   "metadata": {},
   "outputs": [],
   "source": [
    "#Read the csv file\n",
    "\n",
    "covid_df = pd.read_csv('e:/covid_19_india.csv')"
   ]
  },
  {
   "cell_type": "code",
   "execution_count": null,
   "metadata": {},
   "outputs": [],
   "source": [
    "display(covid_df.head(10))\n",
    "covid_df.tail(10)"
   ]
  },
  {
   "cell_type": "code",
   "execution_count": null,
   "metadata": {},
   "outputs": [],
   "source": [
    "#Delete Some columns\n",
    "\n",
    "covid_df = covid_df.drop(['Sno','Time','ConfirmedIndianNational','ConfirmedForeignNational'],axis = 1)\n",
    "display(covid_df.head(10))\n",
    "covid_df.tail(10)"
   ]
  },
  {
   "cell_type": "code",
   "execution_count": null,
   "metadata": {},
   "outputs": [],
   "source": [
    "#Add 'Ratio' Column\n",
    "\n",
    "covid_df['Ratio'] = covid_df['Deaths'] / covid_df['Cured'] * 100\n",
    "display(covid_df.head(10))\n",
    "covid_df.tail(10)"
   ]
  },
  {
   "cell_type": "code",
   "execution_count": null,
   "metadata": {},
   "outputs": [],
   "source": [
    "Date = dt.date(2021,6,1)\n",
    "Starting_Date = '0' + str(Date.day) + '-0' + str(Date.month) + '-' + str(Date.year)\n",
    "print(Starting_Date)"
   ]
  },
  {
   "cell_type": "code",
   "execution_count": null,
   "metadata": {},
   "outputs": [],
   "source": [
    "covid_Day_df = covid_df[covid_df['Date'] == Starting_Date]\n",
    "display(covid_Day_df.head(10))\n",
    "covid_Day_df.tail(10)"
   ]
  },
  {
   "cell_type": "code",
   "execution_count": null,
   "metadata": {},
   "outputs": [],
   "source": [
    "#Sorting the Column Data\n",
    "\n",
    "max_confirmed_cases = covid_Day_df.sort_values(by = 'Confirmed',ascending = False)\n",
    "max_confirmed_cases.head(10)"
   ]
  },
  {
   "cell_type": "code",
   "execution_count": null,
   "metadata": {},
   "outputs": [],
   "source": [
    "top_states_confirmed = max_confirmed_cases[:10]"
   ]
  },
  {
   "cell_type": "markdown",
   "metadata": {},
   "source": [
    "### Bar Graph"
   ]
  },
  {
   "cell_type": "code",
   "execution_count": null,
   "metadata": {},
   "outputs": [],
   "source": [
    "%matplotlib inline\n",
    "plt.figure(figsize = (8,6),dpi=100)\n",
    "\n",
    "states = [state for state,df in top_states_confirmed.groupby('State/UnionTerritory')]\n",
    "\n",
    "plt.bar(top_states_confirmed['State/UnionTerritory'],top_states_confirmed['Confirmed'],width = 0.5,color = 'y',align = 'center')\n",
    "plt.xlabel('States',size = 15)\n",
    "plt.ylabel('Confirmed Cases',size = 15)\n",
    "plt.title('Covid19 confirmed cases in top 10 states',color = '#bf4127',fontdict = {'fontname' : 'Cambria Math','fontsize' : 15})\n",
    "plt.xticks(states,rotation = 'vertical',size = 9)\n",
    "plt.show()"
   ]
  },
  {
   "cell_type": "code",
   "execution_count": null,
   "metadata": {},
   "outputs": [],
   "source": [
    "max_death_cases = covid_Day_df.sort_values(by = 'Deaths',ascending = False)\n",
    "display(max_death_cases.head(10))\n",
    "max_death_cases.tail(10)"
   ]
  },
  {
   "cell_type": "code",
   "execution_count": null,
   "metadata": {},
   "outputs": [],
   "source": [
    "top_states_deaths = max_death_cases[:10]"
   ]
  },
  {
   "cell_type": "code",
   "execution_count": null,
   "metadata": {},
   "outputs": [],
   "source": [
    "%matplotlib inline\n",
    "plt.figure(figsize = (8,6),dpi=100)\n",
    "\n",
    "states = [state for state,df in top_states_confirmed.groupby('State/UnionTerritory')]\n",
    "\n",
    "plt.bar(top_states_confirmed['State/UnionTerritory'],top_states_confirmed['Deaths'],width = 0.5,color = 'r')\n",
    "plt.xlabel('States',size = 15)\n",
    "plt.ylabel('Death Cases',size = 15)\n",
    "plt.title('Covid19 death cases in top 10 states',color = 'b',fontdict = {'fontname' : 'Century','fontsize' : 15})\n",
    "plt.xticks(states,rotation = 'vertical',size = 9)\n",
    "plt.show()"
   ]
  },
  {
   "cell_type": "code",
   "execution_count": null,
   "metadata": {},
   "outputs": [],
   "source": [
    "max_cured_cases = covid_Day_df.sort_values(by = 'Cured',ascending = False)\n",
    "display(max_cured_cases.head(10))\n",
    "max_cured_cases.tail(10)"
   ]
  },
  {
   "cell_type": "code",
   "execution_count": null,
   "metadata": {},
   "outputs": [],
   "source": [
    "top_states_cured = max_cured_cases[:10]"
   ]
  },
  {
   "cell_type": "code",
   "execution_count": null,
   "metadata": {},
   "outputs": [],
   "source": [
    "%matplotlib inline\n",
    "plt.figure(figsize = (8,6),dpi=100)\n",
    "\n",
    "states = [state for state,df in top_states_confirmed.groupby('State/UnionTerritory')]\n",
    "\n",
    "plt.bar(top_states_confirmed['State/UnionTerritory'],top_states_confirmed['Cured'],width = 0.5,color = 'g')\n",
    "plt.xlabel('States',size = 15)\n",
    "plt.ylabel('Cured Cases',size = 15)\n",
    "plt.title('Covid19 cure cases in top 10 states',color = '#2bd56c',fontdict = {'fontname' : 'Comic Sans MS','fontsize' : 15})\n",
    "plt.xticks(states,rotation = 'vertical',size = 9)\n",
    "plt.show()"
   ]
  },
  {
   "cell_type": "code",
   "execution_count": null,
   "metadata": {},
   "outputs": [],
   "source": [
    "%matplotlib inline\n",
    "plt.figure(figsize = (15,10),dpi=150)\n",
    "\n",
    "states = [state for state,df in top_states_confirmed.groupby('State/UnionTerritory')]\n",
    "\n",
    "x = np.arange(10)\n",
    "plt.bar(x,top_states_confirmed['Confirmed'],width = 0.3,color = 'y')\n",
    "plt.bar(x+0.3,top_states_confirmed['Deaths'],width = 0.3,color = 'r')\n",
    "plt.bar(x+0.6,top_states_confirmed['Cured'],width = 0.3,color = 'g')\n",
    "\n",
    "plt.xlabel('States',size = 20)\n",
    "plt.ylabel('Different Cases',size = 20)\n",
    "plt.title('Covid19--different cases in top 10 states',color = 'm',fontdict = {'fontname' : 'Comic Sans MS','fontsize' : 25})\n",
    "plt.xticks(x+0.3,states,size =12)\n",
    "\n",
    "plt.tight_layout()\n",
    "plt.legend(labels = ['confirmed','deaths','cured'],loc = 'best')\n",
    "plt.savefig('e:/Covid19_diagnosis.png')\n",
    "plt.show()"
   ]
  },
  {
   "cell_type": "code",
   "execution_count": null,
   "metadata": {},
   "outputs": [],
   "source": [
    "top_confirmed = covid_df.groupby('State/UnionTerritory')['Confirmed'].max().idxmax()\n",
    "print(top_confirmed)"
   ]
  },
  {
   "cell_type": "code",
   "execution_count": null,
   "metadata": {},
   "outputs": [],
   "source": [
    "#Maharastra\n",
    "\n",
    "top_confirmed_state = covid_df[covid_df['State/UnionTerritory'] == top_confirmed]\n",
    "\n",
    "display(top_confirmed_state.head(10))\n",
    "top_confirmed_state.tail(10)"
   ]
  },
  {
   "cell_type": "code",
   "execution_count": null,
   "metadata": {},
   "outputs": [],
   "source": [
    "#West Bengal\n",
    "\n",
    "west_bengal_df = covid_df[covid_df['State/UnionTerritory'] == 'West Bengal']\n",
    "\n",
    "display(west_bengal_df.head(10))\n",
    "west_bengal_df.tail(10)"
   ]
  },
  {
   "cell_type": "code",
   "execution_count": null,
   "metadata": {},
   "outputs": [],
   "source": [
    "#Delhi\n",
    "\n",
    "delhi_df = covid_df[covid_df['State/UnionTerritory'] == 'Delhi']\n",
    "\n",
    "display(delhi_df.head(10))\n",
    "delhi_df.tail(10)"
   ]
  },
  {
   "cell_type": "code",
   "execution_count": null,
   "metadata": {},
   "outputs": [],
   "source": [
    "#Assam\n",
    "\n",
    "assam_df = covid_df[covid_df['State/UnionTerritory'] == 'Assam']\n",
    "\n",
    "display(assam_df.head(10))\n",
    "assam_df.tail(10)"
   ]
  },
  {
   "cell_type": "code",
   "execution_count": null,
   "metadata": {},
   "outputs": [],
   "source": [
    "#Bihar\n",
    "\n",
    "bihar_df = covid_df[covid_df['State/UnionTerritory'] == 'Bihar']\n",
    "\n",
    "display(bihar_df.head(10))\n",
    "bihar_df.tail(10)"
   ]
  },
  {
   "cell_type": "code",
   "execution_count": null,
   "metadata": {},
   "outputs": [],
   "source": [
    "%matplotlib inline\n",
    "\n",
    "plt.figure(figsize = (15,10),dpi = 100)\n",
    "\n",
    "plt.plot(top_confirmed_state['Date'],top_confirmed_state['Confirmed'],'y-')\n",
    "plt.plot(top_confirmed_state['Date'],top_confirmed_state['Deaths'],'r-')\n",
    "plt.plot(top_confirmed_state['Date'],top_confirmed_state['Cured'],'g-')\n",
    "\n",
    "plt.ylabel('Maharashtra All Cases',size = 20)\n",
    "plt.xlabel('Cases in Months',size = 20)\n",
    "plt.title('MAHARASHTRA DATASET',color = '#143b9e',size = 30)\n",
    "plt.xticks([],size = 9)\n",
    "\n",
    "plt.legend(labels = ['confirmed','deaths','cured'],loc = 'best')\n",
    "plt.show()"
   ]
  },
  {
   "cell_type": "code",
   "execution_count": null,
   "metadata": {},
   "outputs": [],
   "source": [
    "%matplotlib inline\n",
    "\n",
    "plt.figure(figsize = (15,10),dpi = 100)\n",
    "\n",
    "plt.plot(west_bengal_df['Date'],west_bengal_df['Confirmed'],'y-')\n",
    "plt.plot(west_bengal_df['Date'],west_bengal_df['Deaths'],'r-')\n",
    "plt.plot(west_bengal_df['Date'],west_bengal_df['Cured'],'g-')\n",
    "\n",
    "plt.ylabel('West Bengal All Cases',size = 20)\n",
    "plt.xlabel('Cases in Months',size = 20)\n",
    "plt.title('WEST BENGAL DATASET',color = '#143b9e',size = 30)\n",
    "plt.xticks([],size = 9)\n",
    "\n",
    "plt.legend(labels = ['confirmed','deaths','cured'],loc = 'best')\n",
    "plt.show()"
   ]
  },
  {
   "cell_type": "code",
   "execution_count": null,
   "metadata": {},
   "outputs": [],
   "source": [
    "%matplotlib inline\n",
    "\n",
    "plt.figure(figsize = (15,10),dpi = 100)\n",
    "\n",
    "plt.plot(delhi_df['Date'],delhi_df['Confirmed'],'y-')\n",
    "plt.plot(delhi_df['Date'],delhi_df['Deaths'],'r-')\n",
    "plt.plot(delhi_df['Date'],delhi_df['Cured'],'g-')\n",
    "\n",
    "plt.ylabel('New Delhi All Cases',size = 20)\n",
    "plt.xlabel('Cases in Months',size = 20)\n",
    "plt.title('NEW DELHI DATASET',color = '#143b9e',size = 30)\n",
    "plt.xticks([],size = 9)\n",
    "\n",
    "plt.legend(labels = ['confirmed','deaths','cured'],loc = 'best')\n",
    "plt.show()"
   ]
  },
  {
   "cell_type": "markdown",
   "metadata": {},
   "source": [
    "### Pie Chart"
   ]
  },
  {
   "cell_type": "code",
   "execution_count": null,
   "metadata": {},
   "outputs": [],
   "source": [
    "%matplotlib inline\n",
    "plt.figure(figsize = (12,9),dpi = 100)\n",
    "\n",
    "plt.style.use('ggplot')\n",
    "\n",
    "top_confirmed_state = top_confirmed_state.drop(top_confirmed_state[top_confirmed_state.Cured == 0].index)\n",
    "west_bengal_df = west_bengal_df.drop(west_bengal_df[west_bengal_df.Cured == 0].index)\n",
    "delhi_df = delhi_df.drop(delhi_df[delhi_df.Cured == 0].index)\n",
    "assam_df = assam_df.drop(assam_df[assam_df.Cured == 0].index)\n",
    "bihar_df = bihar_df.drop(bihar_df[bihar_df.Cured == 0].index)\n",
    "\n",
    "MH = top_confirmed_state['Confirmed'].count()\n",
    "WB = west_bengal_df['Confirmed'].count()\n",
    "DL = delhi_df['Confirmed'].count()\n",
    "AS = assam_df['Confirmed'].count()\n",
    "BH = bihar_df['Confirmed'].count()\n",
    "\n",
    "labels = ['Maharashtra','West Bengal','Delhi','Assam','Bihar']\n",
    "colors = ['#f023bb','#32a825','#56efc4','#2e02a4','#d4cd23']\n",
    "\n",
    "plt.pie([MH,WB,DL,AS,BH],labels = labels,colors = colors,autopct = '%.2f %%')\n",
    "\n",
    "plt.title('Counting all non zero Cured Cases',fontdict = {'fontname' : 'Lucida Console','fontsize' : 15})\n",
    "plt.legend(loc = 'best')\n",
    "plt.savefig('e:/Covid19_diagnosis_pie.png')\n",
    "plt.show()"
   ]
  },
  {
   "cell_type": "code",
   "execution_count": null,
   "metadata": {},
   "outputs": [],
   "source": [
    "%matplotlib inline\n",
    "plt.figure(figsize = (12,9),dpi = 100)\n",
    "\n",
    "plt.style.use('ggplot')\n",
    "\n",
    "MH = top_confirmed_state['Cured'].max()\n",
    "WB = west_bengal_df['Cured'].max()\n",
    "DL = delhi_df['Cured'].max()\n",
    "AS = assam_df['Cured'].max()\n",
    "BH = bihar_df['Cured'].max()\n",
    "\n",
    "labels = ['Maharashtra','West Bengal','Delhi','Assam','Bihar']\n",
    "colors = ['#2fd419','#197ed4','#b609bf','#e33751','#dfe309']\n",
    "\n",
    "plt.pie([MH,WB,DL,AS,BH],labels = labels,colors = colors,autopct = '%.2f %%')\n",
    "\n",
    "plt.title('Maximum Cured Cases in 5 States',color = 'green',fontdict = {'fontname' : 'Bookman Old Style','fontsize' : 15})\n",
    "plt.legend(loc = 'best')\n",
    "plt.show()"
   ]
  },
  {
   "cell_type": "code",
   "execution_count": null,
   "metadata": {},
   "outputs": [],
   "source": [
    "%matplotlib inline\n",
    "plt.figure(figsize = (12,9),dpi = 100)\n",
    "\n",
    "plt.style.use('ggplot')\n",
    "\n",
    "MH = top_confirmed_state['Deaths'].max()\n",
    "WB = west_bengal_df['Deaths'].max()\n",
    "DL = delhi_df['Deaths'].max()\n",
    "AS = assam_df['Deaths'].max()\n",
    "BH = bihar_df['Deaths'].max()\n",
    "\n",
    "labels = ['Maharashtra','West Bengal','Delhi','Assam','Bihar']\n",
    "colors = ['#378ee8','#68d8b4','#c922c7','#8dbb0d','#04ba66']\n",
    "\n",
    "plt.pie([MH,WB,DL,AS,BH],labels = labels,colors = colors,autopct = '%.2f %%')\n",
    "\n",
    "plt.title('Maximum Deaths Cases in 5 States',color = 'red',fontdict = {'fontname' : 'Cascadia Code','fontsize' : 15})\n",
    "plt.legend(loc = 'best')\n",
    "plt.show()"
   ]
  },
  {
   "cell_type": "code",
   "execution_count": null,
   "metadata": {},
   "outputs": [],
   "source": [
    "%matplotlib inline\n",
    "plt.figure(figsize = (12,9),dpi = 100)\n",
    "\n",
    "plt.style.use('ggplot')\n",
    "\n",
    "top_confirmed_state = top_confirmed_state.drop(top_confirmed_state[top_confirmed_state.Cured == 0].index)\n",
    "west_bengal_df = west_bengal_df.drop(west_bengal_df[west_bengal_df.Cured == 0].index)\n",
    "delhi_df = delhi_df.drop(delhi_df[delhi_df.Cured == 0].index)\n",
    "assam_df = assam_df.drop(assam_df[assam_df.Cured == 0].index)\n",
    "bihar_df = bihar_df.drop(bihar_df[bihar_df.Cured == 0].index)\n",
    "\n",
    "MH = top_confirmed_state['Confirmed'].max()\n",
    "WB = west_bengal_df['Confirmed'].max()\n",
    "DL = delhi_df['Confirmed'].max()\n",
    "AS = assam_df['Confirmed'].max()\n",
    "BH = bihar_df['Confirmed'].max()\n",
    "\n",
    "labels = ['Maharashtra','West Bengal','Delhi','Assam','Bihar']\n",
    "colors = ['#a548c6','#4Fb5b9','#c3918a','#75b322','#eeef07']\n",
    "\n",
    "plt.pie([MH,WB,DL,AS,BH],labels = labels,colors = colors,autopct = '%.2f %%')\n",
    "\n",
    "plt.title('Maximum Confirmed Cases in 5 States',color = 'orange',fontdict = {'fontname' : 'HP Simplified','fontsize' : 15})\n",
    "plt.legend(loc = 'best')\n",
    "plt.show()"
   ]
  },
  {
   "cell_type": "markdown",
   "metadata": {},
   "source": [
    "### Using Linear Regression"
   ]
  },
  {
   "cell_type": "code",
   "execution_count": null,
   "metadata": {},
   "outputs": [],
   "source": [
    "west_bengal_df = west_bengal_df.sort_values(by = 'Confirmed',ascending = False).iloc[:10]\n",
    "west_bengal_df"
   ]
  },
  {
   "cell_type": "code",
   "execution_count": null,
   "metadata": {},
   "outputs": [],
   "source": [
    "X = west_bengal_df[['Confirmed']].values\n",
    "y = west_bengal_df[['Cured']].values"
   ]
  },
  {
   "cell_type": "code",
   "execution_count": null,
   "metadata": {},
   "outputs": [],
   "source": [
    "#Using train_test_split\n",
    "\n",
    "from sklearn.model_selection import train_test_split\n",
    "X_train,X_test,y_train,y_test = train_test_split(X,y,test_size = 0.4,random_state = 4)"
   ]
  },
  {
   "cell_type": "code",
   "execution_count": null,
   "metadata": {},
   "outputs": [],
   "source": [
    "#Using Linear-Regression\n",
    "\n",
    "from sklearn.linear_model import LinearRegression\n",
    "regr = LinearRegression()\n",
    "regr.fit(X_train,y_train)"
   ]
  },
  {
   "cell_type": "code",
   "execution_count": null,
   "metadata": {},
   "outputs": [],
   "source": [
    "y_pred = regr.predict(X_test)\n",
    "y_pred = y_pred.reshape(4,)\n",
    "y_pred = np.sort(y_pred)\n",
    "y_pred"
   ]
  },
  {
   "cell_type": "code",
   "execution_count": null,
   "metadata": {},
   "outputs": [],
   "source": [
    "regr.coef_"
   ]
  },
  {
   "cell_type": "code",
   "execution_count": null,
   "metadata": {},
   "outputs": [],
   "source": [
    "regr.intercept_"
   ]
  },
  {
   "cell_type": "code",
   "execution_count": null,
   "metadata": {},
   "outputs": [],
   "source": [
    "regr.score(X_test,y_test)"
   ]
  },
  {
   "cell_type": "code",
   "execution_count": null,
   "metadata": {},
   "outputs": [],
   "source": [
    "west_bengal_new_df = west_bengal_df.sort_values(by = 'Confirmed',ascending = False).iloc[:10]\n",
    "west_bengal_new_df"
   ]
  },
  {
   "cell_type": "code",
   "execution_count": null,
   "metadata": {},
   "outputs": [],
   "source": [
    "X_test = X_test.reshape(4,)\n",
    "y_test = y_test.reshape(4,)\n",
    "X_test = np.sort(X_test)\n",
    "y_test = np.sort(y_test)"
   ]
  },
  {
   "cell_type": "code",
   "execution_count": null,
   "metadata": {},
   "outputs": [],
   "source": [
    "%matplotlib inline\n",
    "plt.figure(figsize = (10,6),dpi = 100)\n",
    "\n",
    "plt.style.use('ggplot')\n",
    "\n",
    "plt.scatter(X_test,y_pred,color = 'black')\n",
    "plt.plot(X_test,y_test,'bo-',linewidth = 2,markerfacecolor = 'w',markersize = 7)\n",
    "\n",
    "plt.grid(True)\n",
    "plt.xlabel('X Axis',fontsize = 15)\n",
    "plt.ylabel('Y Axis',fontsize = 15)\n",
    "plt.title('X vs Y',color = 'magenta',fontsize = 20)\n",
    "\n",
    "plt.legend(labels = ['X vs Predicted_Y','X vs Actual_Y'])\n",
    "plt.show()"
   ]
  },
  {
   "cell_type": "code",
   "execution_count": null,
   "metadata": {},
   "outputs": [],
   "source": [
    "#Root Mean Squared Error\n",
    "\n",
    "from sklearn.metrics import mean_squared_error,r2_score\n",
    "print(\"Mean Squared Error : \",mean_squared_error(y_test,y_pred))\n",
    "print(\"Root Mean Squared Error : \",np.sqrt(mean_squared_error(y_test,y_pred)))\n",
    "print(\"R_squared value : %.2f\" %r2_score(y_test,y_pred))"
   ]
  },
  {
   "cell_type": "code",
   "execution_count": null,
   "metadata": {},
   "outputs": [],
   "source": [
    "#Encodng Categorical Data\n",
    "\n",
    "from sklearn.preprocessing import LabelEncoder,OneHotEncoder\n",
    "\n",
    "labelencoder = LabelEncoder()\n",
    "X = labelencoder.fit_transform(X)\n",
    "X = sorted(X)\n",
    "display(X)\n",
    "\n",
    "X = np.array(X,ndmin = 2)\n",
    "onehotencoder = OneHotEncoder()\n",
    "X = onehotencoder.fit_transform(X).toarray()\n",
    "X"
   ]
  }
 ],
 "metadata": {
  "kernelspec": {
   "display_name": "Python 3",
   "language": "python",
   "name": "python3"
  },
  "language_info": {
   "codemirror_mode": {
    "name": "ipython",
    "version": 3
   },
   "file_extension": ".py",
   "mimetype": "text/x-python",
   "name": "python",
   "nbconvert_exporter": "python",
   "pygments_lexer": "ipython3",
   "version": "3.7.6"
  }
 },
 "nbformat": 4,
 "nbformat_minor": 4
}
